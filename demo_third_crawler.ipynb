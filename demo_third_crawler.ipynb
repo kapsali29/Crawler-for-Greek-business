{
 "cells": [
  {
   "cell_type": "code",
   "execution_count": 1,
   "metadata": {
    "collapsed": true
   },
   "outputs": [],
   "source": [
    "def wayback_machine(url):\n",
    "    from simplejson import JSONDecodeError\n",
    "    import requests\n",
    "    import time\n",
    "    #http://web.archive.org/cdx/search/cdx?url=archive.org&output=json&limit=-1\n",
    "    try:\n",
    "        rapi = requests.get('http://web.archive.org/cdx/search/cdx?url='+url+'&fl=timestamp&output=json&limit=-1').json()\n",
    "        if rapi !=[]:\n",
    "            tmp1 = rapi[1][0]\n",
    "            date = tmp1[6:8]+'/'+tmp1[4:6]+'/'+tmp1[0:4]\n",
    "            return date\n",
    "        else:\n",
    "            return 'nn/nn/nnnn'\n",
    "    except JSONDecodeError:\n",
    "        return 'nn/nn/nnnn'"
   ]
  },
  {
   "cell_type": "code",
   "execution_count": 2,
   "metadata": {
    "collapsed": true
   },
   "outputs": [],
   "source": [
    "def website_dev(url):\n",
    "    import requests\n",
    "    import re\n",
    "    from pprint import pprint\n",
    "    api_key = 'YOUR API KEY'\n",
    "    get_url = 'https://www.googleapis.com/pagespeedonline/v2/runPagespeed?url='+url+'&strategy=desktop&key='+api_key\n",
    "    response = requests.get(get_url).json()\n",
    "    try:\n",
    "        quality = response['ruleGroups']['SPEED']['score']\n",
    "        pagestats = response['pageStats']\n",
    "        if quality >0 and quality<=65:\n",
    "            q = '1'\n",
    "        elif quality > 65 and quality <=79:\n",
    "            q = '2'\n",
    "        else:\n",
    "            q = '3'\n",
    "        return url,q,pagestats\n",
    "    except KeyError:\n",
    "        return url,0,{}"
   ]
  },
  {
   "cell_type": "code",
   "execution_count": 3,
   "metadata": {
    "collapsed": true
   },
   "outputs": [],
   "source": [
    "def advanced_stats(url):\n",
    "    import requests\n",
    "    import re\n",
    "    from bs4 import BeautifulSoup\n",
    "    import time\n",
    "    thisurl = 'http://www.statshow.com/www/'+url\n",
    "    time.sleep(1.5)\n",
    "    r = requests.get(thisurl)\n",
    "    soup = BeautifulSoup(r.content,'lxml')\n",
    "    yearly_stats = soup.find('div',{'id': 'box_3'})\n",
    "    if yearly_stats !=None:\n",
    "        total_visits = yearly_stats.find_all('span')[1].text\n",
    "        unique_visits = yearly_stats.find_all('span')[2].text\n",
    "    else:\n",
    "        total_visits = 0\n",
    "        unique_visits = 0\n",
    "    return url,total_visits,unique_visits"
   ]
  },
  {
   "cell_type": "code",
   "execution_count": 4,
   "metadata": {
    "collapsed": true
   },
   "outputs": [],
   "source": [
    "def run_me(url):\n",
    "    date = wayback_machine(url)\n",
    "    print('Last  modified date:',date)\n",
    "    url,q,pagestats = website_dev(url)\n",
    "    print('Website development quality:',q)\n",
    "    url,total_visits,unique_visits = advanced_stats(url)\n",
    "    print('Total visits per year:',total_visits)\n",
    "    print('Unique visits per year:',unique_visits)"
   ]
  },
  {
   "cell_type": "code",
   "execution_count": 5,
   "metadata": {
    "collapsed": false
   },
   "outputs": [
    {
     "name": "stdout",
     "output_type": "stream",
     "text": [
      "Last  modified date: 16/09/2017\n",
      "Website development quality: 1\n",
      "Total visits per year: 86,505\n",
      "Unique visits per year: 39,055\n"
     ]
    }
   ],
   "source": [
    "run_me('http://www.kallas-pap.com/')"
   ]
  },
  {
   "cell_type": "code",
   "execution_count": 6,
   "metadata": {
    "collapsed": false
   },
   "outputs": [
    {
     "name": "stdout",
     "output_type": "stream",
     "text": [
      "Last  modified date: 29/09/2017\n",
      "Website development quality: 1\n",
      "Total visits per year: 58,035\n",
      "Unique visits per year: 26,280\n"
     ]
    }
   ],
   "source": [
    "run_me('https://www.damavand.gr/')"
   ]
  },
  {
   "cell_type": "code",
   "execution_count": 9,
   "metadata": {
    "collapsed": false
   },
   "outputs": [
    {
     "name": "stdout",
     "output_type": "stream",
     "text": [
      "Last  modified date: 01/10/2017\n",
      "Website development quality: 1\n",
      "Total visits per year: 196,370\n",
      "Unique visits per year: 89,060\n"
     ]
    }
   ],
   "source": [
    "run_me('http://www.vikoswater.gr/')"
   ]
  },
  {
   "cell_type": "code",
   "execution_count": 10,
   "metadata": {
    "collapsed": false
   },
   "outputs": [
    {
     "name": "stdout",
     "output_type": "stream",
     "text": [
      "Last  modified date: 30/09/2017\n",
      "Website development quality: 1\n",
      "Total visits per year: 54,750\n",
      "Unique visits per year: 24,820\n"
     ]
    }
   ],
   "source": [
    "run_me('http://www.viozokat.gr/')"
   ]
  },
  {
   "cell_type": "code",
   "execution_count": 11,
   "metadata": {
    "collapsed": false
   },
   "outputs": [
    {
     "name": "stdout",
     "output_type": "stream",
     "text": [
      "Last  modified date: 07/10/2017\n",
      "Website development quality: 1\n",
      "Total visits per year: 43,800\n",
      "Unique visits per year: 19,710\n"
     ]
    }
   ],
   "source": [
    "run_me('http://www.tsarouchas.eu/')"
   ]
  },
  {
   "cell_type": "code",
   "execution_count": 12,
   "metadata": {
    "collapsed": false
   },
   "outputs": [
    {
     "name": "stdout",
     "output_type": "stream",
     "text": [
      "Last  modified date: 19/09/2017\n",
      "Website development quality: 2\n",
      "Total visits per year: 19,710\n",
      "Unique visits per year: 8,760\n"
     ]
    }
   ],
   "source": [
    "run_me('http://www.biofresh-sa.com/')"
   ]
  },
  {
   "cell_type": "code",
   "execution_count": 13,
   "metadata": {
    "collapsed": false
   },
   "outputs": [
    {
     "name": "stdout",
     "output_type": "stream",
     "text": [
      "Last  modified date: 12/09/2017\n",
      "Website development quality: 1\n",
      "Total visits per year: 365\n",
      "Unique visits per year: 365\n"
     ]
    }
   ],
   "source": [
    "run_me('http://hellasfrost.gr/')"
   ]
  },
  {
   "cell_type": "code",
   "execution_count": 15,
   "metadata": {
    "collapsed": false
   },
   "outputs": [
    {
     "name": "stdout",
     "output_type": "stream",
     "text": [
      "Last  modified date: 20/09/2017\n",
      "Website development quality: 2\n",
      "Total visits per year: 45,625\n",
      "Unique visits per year: 20,440\n"
     ]
    }
   ],
   "source": [
    "run_me('http://www.agrimon.gr/')"
   ]
  }
 ],
 "metadata": {
  "kernelspec": {
   "display_name": "Python [default]",
   "language": "python",
   "name": "python3"
  },
  "language_info": {
   "codemirror_mode": {
    "name": "ipython",
    "version": 3
   },
   "file_extension": ".py",
   "mimetype": "text/x-python",
   "name": "python",
   "nbconvert_exporter": "python",
   "pygments_lexer": "ipython3",
   "version": "3.5.2"
  }
 },
 "nbformat": 4,
 "nbformat_minor": 2
}
