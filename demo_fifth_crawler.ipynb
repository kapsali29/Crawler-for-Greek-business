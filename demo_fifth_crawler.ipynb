{
 "cells": [
  {
   "cell_type": "code",
   "execution_count": 19,
   "metadata": {
    "collapsed": true
   },
   "outputs": [],
   "source": [
    "def find_etairiki(url5):\n",
    "    import re\n",
    "    import requests\n",
    "    from bs4 import BeautifulSoup\n",
    "    from pprint import pprint\n",
    "    r = requests.get(url5)\n",
    "    soup = BeautifulSoup(r.content,'lxml')\n",
    "    etairiki = soup.find(text = re.compile(r'Εταιρικη Κοινωνικη Ευθυνη|Κοινωνική δράση|Εταιρική Κοινωνική Ευθύνη|ΕΚΕ|Ε.Κ.Ε.|Κοινωνική Ευθύνη|Εταιρική ευθύνη|Εταιρική Υπευθυνότητα|ΚΟΙΝΩΝΙΚΗ ΕΥΘΥΝΗ|[Κκ]οινωνική Ευθύνη'))\n",
    "    return etairiki\n",
    "def find_exports(url5):\n",
    "    import re\n",
    "    import requests\n",
    "    from bs4 import BeautifulSoup\n",
    "    from pprint import pprint\n",
    "    r = requests.get(url5)\n",
    "    soup = BeautifulSoup(r.content,'lxml')\n",
    "    exports = soup.find(text = re.compile(r'ΕΞΑΓΩΓΕΣ|EXPORTS|[Εε]ξωτερικό|εξαγωγές|εξαγωγή|[Εε]ξαγωγών|εξαγωγή|εξάγει|εξαγωγική|εξαγωγών|Εξαγωγές'))\n",
    "    return exports\n",
    "def find_imports(url5):\n",
    "    import re\n",
    "    import requests\n",
    "    from bs4 import BeautifulSoup\n",
    "    from pprint import pprint\n",
    "    r = requests.get(url5)\n",
    "    soup = BeautifulSoup(r.content,'lxml')\n",
    "    imports = soup.find(text = re.compile(r'εισαγωγής|[Εε]ισαγωγή|[εΕ]ισαγωγές|[Εε]ισάγει|εισαγωγών'))\n",
    "    return imports\n",
    "def find_antipr(url5):\n",
    "    import re\n",
    "    import requests\n",
    "    from bs4 import BeautifulSoup\n",
    "    from pprint import pprint\n",
    "    r = requests.get(url5)\n",
    "    soup = BeautifulSoup(r.content,'lxml')\n",
    "    antipr = soup.find(text=re.compile(r'[Αα]ντιπρόσωποι|[αΑ]ντιπροσώπων|ΑΝΤΙΠΡΟΣΩΠΟΙ|[αA]ντιπροσώπευση|[Αα]ντιπροσώπους|ΣΗΜΕΙΑ ΠΩΛΗΣΗΣ|ΑΝΤΙΠΡΟΣΩΠΕΙΕΣ|[Αα]ντιπροσωπείες|[αΑ]ντιπρόσωπος'))\n",
    "    return antipr\n",
    "def find_upost(url5):\n",
    "    import re\n",
    "    import requests\n",
    "    from bs4 import BeautifulSoup\n",
    "    from pprint import pprint\n",
    "    r = requests.get(url5)\n",
    "    soup = BeautifulSoup(r.content,'lxml')\n",
    "    upost = soup.find(text=re.compile(r'ΥΠΟΣΤΗΡΙΞΗ|[Υυ]ποστήριξη|ΣΥΜΒΟΥΛΕΣ|[Σσ]υμβουλές|ΣΥΧΝΕΣ ΕΡΩΤΗΣΕΙΣ|[Σσ]υχνές [Εε]ρωτήσεις|ΓΙΑ ΚΑΤΑΝΑΛΩΤΕΣ|Για Καταναλωτές'))\n",
    "    return upost\n",
    "def find_egk(url5):\n",
    "    import re\n",
    "    import requests\n",
    "    from bs4 import BeautifulSoup\n",
    "    from pprint import pprint\n",
    "    r = requests.get(url5)\n",
    "    soup = BeautifulSoup(r.content,'lxml')\n",
    "    egk = soup.find(text=re.compile(r'[ιΙ]διόκτητες γηπεδικές εγκαταστάσεις|[ιΙ]διόκτητες εγκαταστάσεις|ιδιόκτητη έκταση|ιδιόκτητ[οη]|ιδιόκτητες|ιδιόκτητες|ιδιόκτητα|ιδιόκτητες|ιδιόκτητο'))\n",
    "    return egk\n",
    "def second_search(url6,code):\n",
    "    import re\n",
    "    import requests\n",
    "    from bs4 import BeautifulSoup\n",
    "    from pprint import pprint\n",
    "    from urllib.parse import urlparse\n",
    "    r = requests.get(url6)\n",
    "    soup = BeautifulSoup(r.content,'lxml')\n",
    "    valid_url = re.compile(r'https?:\\/\\/(www\\.)?[-a-zA-Z0-9@:%._\\+~#=]{2,256}\\.[a-z]{2,6}\\b([-a-zA-Z0-9@:%_\\+.~#?&//=]*)')\n",
    "    parsed = list(urlparse(url6))\n",
    "    schema = parsed[0]+'://'+parsed[1]+'/'\n",
    "    std = soup.find_all('a',text=re.compile(r'ΕΤΑΙΡΙΑ|Εταιρική ταυτότητα|Σχετικά με μας|COMPANY|HISTORY|[Hh]istory|[Ππ]ροφίλ|ΣΧΕΤΙΚΑ ΜΕ ΕΜΑΣ|Η Εταιρεία|ΕΤΑΙΡΕΙΑ|Η εταιρεία μας|[Εε]γκαταστάσεις|ΕΓΚΑΤΑΣΤΑΣΕΙΣ|Η Εταιρία|Εγκαταστάσεις|Εταιρεία|Η εταιρία|Εταιρία|Δραστηριότητες|COMPANY|[Cc]ompany'))\n",
    "    theurls1 = soup.find_all('a',href=re.compile(r'company|etairia|etaireia|εταιρεια|about|profile|Εταιρία|profil|h-agrimon.html|about|about_us|προφίλ|εταιρεία|etairia|εταιρία|poioi-eimaste|[Cc]ontact|epikoinwnia|CONTACT|communication|EPIKOINONIA|contact_us|epik|ΕΠΙΚΟΙΝΩΝΙΑ|stoixeia-epikoinonias|Contacts|communication|epikoinia|Contact|contact|[eE]pikoin[ow]nia\\b|contact|%C5%F0%E9%EA%EF%E9%ED%F9%ED%DF%E1|contac-us|epikoinwnia|where-we-are|find-us|contact|επικοινωνία|epikinonia|επικοινωνια|%ce%b5%cf%80%ce%b9%ce%ba%ce%bf%ce%b9%ce%bd%cf%89%ce%bd%ce%af%ce%b1|EPIKINONIA|contact-us|epikoinwnia|epikoinonia|Eπικοινωνία|Επικοινωνία|καταστήματα|επικοινωνια|epsilonpiiotakappaomicroniotanuomeganuiotaalpha|GrFeed|madres-oikodomikwn-ylikwn-volou.html|epikoinoneste-mazi-mas|/1/gr/8_3/8.htm|%cf%80%cf%81%ce%bf%cf%88%ce%b7%ce%bc%ce%b5%ce%bd%ce%b1-%ce%ba%ce%b1%cf%84%ce%b5%cf%88%cf%85%ce%b3%ce%bc%ce%b5%ce%bd%ce%b1-%ce%b1%cf%81%cf%84%ce%bf%cf%83%ce%ba%ce%b5%cf%85%ce%b1%cf%83%ce%bc%ce%b1%cf%84/|page_id=881'))\n",
    "    std +=theurls1\n",
    "    surls = []\n",
    "    if std ==[]:\n",
    "        surls = []\n",
    "    else:\n",
    "        for st in std:\n",
    "            if st.has_attr('href'):\n",
    "                surls.append(st)\n",
    "    if code == 1:\n",
    "        if surls !=[]:\n",
    "            res1 = []\n",
    "            for st in std:\n",
    "                if valid_url.search(st['href']):\n",
    "                    thislink = st['href']\n",
    "                else:\n",
    "                    thislink = schema+st['href'].lstrip('/')\n",
    "                tt1 = find_etairiki(thislink)\n",
    "                if tt1 !=None:\n",
    "                    res1.append(tt1)\n",
    "                if tt1 == 1:\n",
    "                    break\n",
    "                else:\n",
    "                    continue\n",
    "            if res1 !=[]:\n",
    "                return 1\n",
    "            else:\n",
    "                return 0\n",
    "        else:\n",
    "            return 0\n",
    "    if code == 2:\n",
    "        if surls !=[]:\n",
    "            res2 = []\n",
    "            for st in std:\n",
    "                if valid_url.search(st['href']):\n",
    "                    thislink = st['href']\n",
    "                else:\n",
    "                    thislink = schema+st['href'].lstrip('/')\n",
    "                tt2 = find_exports(thislink)\n",
    "                if tt2 !=None:\n",
    "                    res2.append(tt2)\n",
    "                if tt2 ==1:\n",
    "                    break\n",
    "                else:\n",
    "                    continue\n",
    "            if res2 !=[]:\n",
    "                return 1\n",
    "            else:\n",
    "                return 0\n",
    "        else:\n",
    "            return 0\n",
    "    if code == 3:\n",
    "        if surls !=[]:\n",
    "            res3 = []\n",
    "            for st in std:\n",
    "                if valid_url.search(st['href']):\n",
    "                    thislink = st['href']\n",
    "                else:\n",
    "                    thislink = schema+st['href'].lstrip('/')\n",
    "                tt3 = find_imports(thislink)\n",
    "                if tt3 !=None:\n",
    "                    res3.append(tt3)\n",
    "                if tt3 ==1:\n",
    "                    break\n",
    "                else:\n",
    "                    continue\n",
    "            if res3 !=[]:\n",
    "                return 1\n",
    "            else:\n",
    "                return 0\n",
    "        else:\n",
    "            return 0\n",
    "    if code == 4:\n",
    "        if surls!=[]:\n",
    "            res4 = []\n",
    "            for st in std:\n",
    "                if valid_url.search(st['href']):\n",
    "                    thislink = st['href']\n",
    "                else:\n",
    "                    thislink = schema+st['href'].lstrip('/')\n",
    "                tt4 = find_antipr(thislink)\n",
    "                if tt4 !=None:\n",
    "                    res4.append(tt4)\n",
    "                if tt4 == 1:\n",
    "                    break\n",
    "                else:\n",
    "                    continue\n",
    "            if res4 !=[]:\n",
    "                return 1\n",
    "            else:\n",
    "                return 0\n",
    "        else:\n",
    "            return 0\n",
    "    if code == 5:\n",
    "        if surls !=[]:\n",
    "            res5 = []\n",
    "            for st in std:\n",
    "                if valid_url.search(st['href']):\n",
    "                    thislink = st['href']\n",
    "                else:\n",
    "                    thislink = schema+st['href'].lstrip('/')\n",
    "                tt5 = find_upost(thislink)\n",
    "                if tt5 !=None:\n",
    "                    res5.append(tt5)\n",
    "                if tt5 == 1:\n",
    "                    break\n",
    "                else:\n",
    "                    continue\n",
    "            if res5 !=[]:\n",
    "                return 1\n",
    "            else:\n",
    "                return 0\n",
    "        else:\n",
    "            return 0\n",
    "    if code == 6:\n",
    "        if surls !=[]:\n",
    "            res6 = []\n",
    "            for st in std:\n",
    "                if valid_url.search(st['href']):\n",
    "                    thislink = st['href']\n",
    "                else:\n",
    "                    thislink = schema+st['href'].lstrip('/')\n",
    "                tt6 = find_egk(thislink)\n",
    "                if tt6 !=None:\n",
    "                    res6.append(tt6)\n",
    "                if tt6 == 1:\n",
    "                    break\n",
    "                else:\n",
    "                    continue\n",
    "            if res6 !=[]:\n",
    "                return 1\n",
    "            else:\n",
    "                return 0\n",
    "        else:\n",
    "            return 0\n",
    "def main_search(url):\n",
    "    tmp1 = find_etairiki(url)\n",
    "    if tmp1 !=None:\n",
    "        etke = 1\n",
    "    else:\n",
    "        etke = second_search(url,1)\n",
    "    tmp2 = find_exports(url)\n",
    "    if tmp2 !=None:\n",
    "        exp = 1\n",
    "    else:\n",
    "        exp = second_search(url,2)\n",
    "    tmp3 = find_imports(url)\n",
    "    if tmp3 !=None:\n",
    "        imp = 1\n",
    "    else:\n",
    "        imp = second_search(url,3)\n",
    "        tmp4 = find_antipr(url)\n",
    "    if tmp4 !=None:\n",
    "        antip = 1\n",
    "    else:\n",
    "        antip = second_search(url,4)\n",
    "    tmp5 = find_upost(url)\n",
    "    if tmp5 !=None:\n",
    "        yppel = 1\n",
    "    else:\n",
    "        yppel = second_search(url,5)\n",
    "    tmp6 = find_egk(url)\n",
    "    if tmp6 !=None:\n",
    "        idegk = 1\n",
    "    else:\n",
    "        idegk = second_search(url,6)\n",
    "    return etke,exp,imp,antip,yppel,idegk\n",
    "def run_me(url):\n",
    "    etke,exp,imp,antip,yppel,idegk = main_search(url)\n",
    "    print('Αναφορά σε Ε.Κ.Ε:',etke)\n",
    "    print('Αναφορά σε εξαγωγές:',exp)\n",
    "    print('Αναφορά σε εισαγωγές:',imp)\n",
    "    print('Αναφορά σε αντιπροσωποίες:',antip)\n",
    "    print('Αναφορά σε Υποστήριξη Πελατών:',yppel)\n",
    "    print('Αναφορά σε Ιδιόκτητες εγκαταστάσεις:',idegk)"
   ]
  },
  {
   "cell_type": "code",
   "execution_count": 14,
   "metadata": {
    "collapsed": false
   },
   "outputs": [
    {
     "name": "stdout",
     "output_type": "stream",
     "text": [
      "Αναφορά σε Ε.Κ.Ε: 1\n",
      "Αναφορά σε εξαγωγές: 1\n",
      "Αναφορά σε εισαγωγές: 0\n",
      "Αναφορά σε αντιπροσωποίες: 1\n",
      "Αναφορά σε Υποστήριξη Πελατών: 0\n",
      "Αναφορά σε Ιδιόκτητες εγκαταστάσεις: 0\n"
     ]
    }
   ],
   "source": [
    "run_me('http://couniniotis.gr/')"
   ]
  },
  {
   "cell_type": "code",
   "execution_count": 15,
   "metadata": {
    "collapsed": false
   },
   "outputs": [
    {
     "name": "stdout",
     "output_type": "stream",
     "text": [
      "Αναφορά σε Ε.Κ.Ε: 0\n",
      "Αναφορά σε εξαγωγές: 1\n",
      "Αναφορά σε εισαγωγές: 1\n",
      "Αναφορά σε αντιπροσωποίες: 0\n",
      "Αναφορά σε Υποστήριξη Πελατών: 1\n",
      "Αναφορά σε Ιδιόκτητες εγκαταστάσεις: 0\n"
     ]
    }
   ],
   "source": [
    "run_me('http://www.veler.gr/')"
   ]
  },
  {
   "cell_type": "code",
   "execution_count": 16,
   "metadata": {
    "collapsed": false
   },
   "outputs": [
    {
     "name": "stdout",
     "output_type": "stream",
     "text": [
      "Αναφορά σε Ε.Κ.Ε: 0\n",
      "Αναφορά σε εξαγωγές: 0\n",
      "Αναφορά σε εισαγωγές: 0\n",
      "Αναφορά σε αντιπροσωποίες: 0\n",
      "Αναφορά σε Υποστήριξη Πελατών: 0\n",
      "Αναφορά σε Ιδιόκτητες εγκαταστάσεις: 0\n"
     ]
    }
   ],
   "source": [
    "run_me('http://hellasfrost.gr/')"
   ]
  },
  {
   "cell_type": "code",
   "execution_count": 18,
   "metadata": {
    "collapsed": false
   },
   "outputs": [
    {
     "name": "stdout",
     "output_type": "stream",
     "text": [
      "Αναφορά σε Ε.Κ.Ε: 0\n",
      "Αναφορά σε εξαγωγές: 1\n",
      "Αναφορά σε εισαγωγές: 1\n",
      "Αναφορά σε αντιπροσωποίες: 1\n",
      "Αναφορά σε Υποστήριξη Πελατών: 0\n",
      "Αναφορά σε Ιδιόκτητες εγκαταστάσεις: 1\n"
     ]
    }
   ],
   "source": [
    "run_me('http://www.kallas-pap.com/')"
   ]
  },
  {
   "cell_type": "code",
   "execution_count": 22,
   "metadata": {
    "collapsed": false
   },
   "outputs": [
    {
     "name": "stdout",
     "output_type": "stream",
     "text": [
      "Αναφορά σε Ε.Κ.Ε: 1\n",
      "Αναφορά σε εξαγωγές: 1\n",
      "Αναφορά σε εισαγωγές: 1\n",
      "Αναφορά σε αντιπροσωποίες: 0\n",
      "Αναφορά σε Υποστήριξη Πελατών: 0\n",
      "Αναφορά σε Ιδιόκτητες εγκαταστάσεις: 1\n"
     ]
    }
   ],
   "source": [
    "run_me('http://rotosal.gr/')"
   ]
  },
  {
   "cell_type": "code",
   "execution_count": 23,
   "metadata": {
    "collapsed": false
   },
   "outputs": [
    {
     "name": "stdout",
     "output_type": "stream",
     "text": [
      "Αναφορά σε Ε.Κ.Ε: 0\n",
      "Αναφορά σε εξαγωγές: 0\n",
      "Αναφορά σε εισαγωγές: 0\n",
      "Αναφορά σε αντιπροσωποίες: 1\n",
      "Αναφορά σε Υποστήριξη Πελατών: 1\n",
      "Αναφορά σε Ιδιόκτητες εγκαταστάσεις: 0\n"
     ]
    }
   ],
   "source": [
    "run_me('http://www.viozokat.gr/')"
   ]
  },
  {
   "cell_type": "code",
   "execution_count": 24,
   "metadata": {
    "collapsed": false
   },
   "outputs": [
    {
     "name": "stdout",
     "output_type": "stream",
     "text": [
      "Αναφορά σε Ε.Κ.Ε: 0\n",
      "Αναφορά σε εξαγωγές: 1\n",
      "Αναφορά σε εισαγωγές: 0\n",
      "Αναφορά σε αντιπροσωποίες: 1\n",
      "Αναφορά σε Υποστήριξη Πελατών: 0\n",
      "Αναφορά σε Ιδιόκτητες εγκαταστάσεις: 0\n"
     ]
    }
   ],
   "source": [
    "run_me('http://www.biofresh-sa.com/')"
   ]
  },
  {
   "cell_type": "code",
   "execution_count": 25,
   "metadata": {
    "collapsed": false
   },
   "outputs": [
    {
     "name": "stdout",
     "output_type": "stream",
     "text": [
      "Αναφορά σε Ε.Κ.Ε: 0\n",
      "Αναφορά σε εξαγωγές: 0\n",
      "Αναφορά σε εισαγωγές: 1\n",
      "Αναφορά σε αντιπροσωποίες: 1\n",
      "Αναφορά σε Υποστήριξη Πελατών: 0\n",
      "Αναφορά σε Ιδιόκτητες εγκαταστάσεις: 1\n"
     ]
    }
   ],
   "source": [
    "run_me('https://glaveris.gr/')"
   ]
  }
 ],
 "metadata": {
  "kernelspec": {
   "display_name": "Python [default]",
   "language": "python",
   "name": "python3"
  },
  "language_info": {
   "codemirror_mode": {
    "name": "ipython",
    "version": 3
   },
   "file_extension": ".py",
   "mimetype": "text/x-python",
   "name": "python",
   "nbconvert_exporter": "python",
   "pygments_lexer": "ipython3",
   "version": "3.5.2"
  }
 },
 "nbformat": 4,
 "nbformat_minor": 2
}
